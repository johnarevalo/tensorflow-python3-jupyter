{
 "cells": [
  {
   "cell_type": "code",
   "execution_count": null,
   "metadata": {},
   "outputs": [],
   "source": [
    "from keras.layers import Input, Dense\n",
    "from keras.optimizers import SGD\n",
    "from keras.models import Model\n",
    "\n",
    "import numpy as np\n",
    "import plotly.graph_objs as go\n",
    "from plotly import offline as off\n",
    "off.init_notebook_mode(connected=True)\n",
    "import cufflinks as cf\n",
    "import pandas as pd\n",
    "\n",
    "cf.set_config_file(offline=True, world_readable=True)"
   ]
  },
  {
   "cell_type": "markdown",
   "metadata": {},
   "source": [
    "# Quick Introduction to Neural Networks\n",
    "\n",
    "## Artificial Neuron\n",
    "\n",
    "<img src=\"http://upload.wikimedia.org/wikipedia/commons/thumb/6/60/ArtificialNeuronModel_english.png/600px-ArtificialNeuronModel_english.png\" >\n",
    "\n",
    "$$o_j^{(n)} = \\varphi\\left(\\sum_{i\\; in\\; layer (n-1)}w_{ij}o_i^{(n-1)} \\right)$$\n",
    "\n",
    "## Step activation function\n",
    "<img src=\"https://c.mql5.com/2/4/act1.png\" align=\"middle\">\n",
    "\n",
    "## Logistic activation function\n",
    "\n",
    "$$\\varphi(x) = \\frac{1}{1 - e^{-(x-b)}}$$\n",
    "\n",
    "<img width= 300 src=\"http://upload.wikimedia.org/wikipedia/commons/thumb/b/b5/SigmoidFunction.png/400px-SigmoidFunction.png\" align=\"middle\">\n",
    "\n",
    "### Question: How to program an artificial neuron to calculate the *and* function?\n",
    "<br>\n",
    "<table>\n",
    "<tr>\n",
    "<th>$X$</th>\n",
    "<th>$Y$</th>\n",
    "<th>$X$ and $Y$</th>\n",
    "</tr>\n",
    "<tr>\n",
    "<td>0</td>\n",
    "<td>0</td>\n",
    "<td style=\"text-align:center\">0</td>\n",
    "</tr>\n",
    "<tr>\n",
    "<td>0</td>\n",
    "<td>1</td>\n",
    "<td style=\"text-align:center\">0</td>\n",
    "</tr>\n",
    "<tr>\n",
    "<td>1</td>\n",
    "<td>0</td>\n",
    "<td style=\"text-align:center\">0</td>\n",
    "</tr>\n",
    "<tr>\n",
    "<td>1</td>\n",
    "<td>1</td>\n",
    "<td style=\"text-align:center\">1</td>\n",
    "</tr>\n",
    "</table>\n",
    "\n",
    "## AND Neural Network\n",
    "<img src=\"and1.png\" align=\"middle\">\n",
    "# Define the toy dataset"
   ]
  },
  {
   "cell_type": "code",
   "execution_count": null,
   "metadata": {},
   "outputs": [],
   "source": [
    "data = np.array([[1, 1], [1, 0], [0, 1], [0, 0]], dtype=np.float32)\n",
    "labels = np.array([1, 0, 0, 0], dtype=np.float32)"
   ]
  },
  {
   "cell_type": "markdown",
   "metadata": {},
   "source": [
    "# Define the model"
   ]
  },
  {
   "cell_type": "code",
   "execution_count": null,
   "metadata": {},
   "outputs": [],
   "source": [
    "x = Input(shape=(2,))\n",
    "y = Dense(1, activation='sigmoid')(x)\n",
    "\n",
    "model = Model(inputs=x, outputs=y)"
   ]
  },
  {
   "cell_type": "code",
   "execution_count": null,
   "metadata": {},
   "outputs": [],
   "source": [
    "def plotBoundary(model):\n",
    "    x_list = np.arange(0.0, 1.0, 0.025)\n",
    "    x1, x2 = np.meshgrid(x_list, x_list)\n",
    "    x_vals = np.vstack([x1.ravel(), x2.ravel()]).T\n",
    "    z = model.predict(x_vals)\n",
    "    z = z.reshape(x1.shape).astype(np.float32)\n",
    "    content = [go.Contour(x=x_list, y=x_list, z=z, showscale=False)]\n",
    "    layout = go.Layout(title='Decision Boundary',\n",
    "                       xaxis=dict(title='x1'),\n",
    "                       yaxis=dict(title='x2')\n",
    "                      )\n",
    "\n",
    "    fig = go.Figure(data=content, layout=layout)\n",
    "    off.iplot(fig)"
   ]
  },
  {
   "cell_type": "code",
   "execution_count": null,
   "metadata": {},
   "outputs": [],
   "source": [
    "model.set_weights([[[10], [10]], [0]])\n",
    "print(pd.DataFrame(np.hstack((data, model.predict(data))), columns=['x1', 'x2', 'prediction']))\n",
    "plotBoundary(model)"
   ]
  },
  {
   "cell_type": "markdown",
   "metadata": {},
   "source": [
    "## AND Neural Network\n",
    "<img src=\"and2.png\" align=\"middle\">\n",
    "\n",
    "### Question: How to program an artificial neuron to calculate the *xor* function?\n",
    "<br/>\n",
    "<table>\n",
    "<tr>\n",
    "<th>$X$</th>\n",
    "<th>$Y$</th>\n",
    "<th>$X$ xor $Y$</th>\n",
    "</tr>\n",
    "<tr>\n",
    "<td>0</td>\n",
    "<td>0</td>\n",
    "<td style=\"text-align:center\">0</td>\n",
    "</tr>\n",
    "<tr>\n",
    "<td>0</td>\n",
    "<td>1</td>\n",
    "<td style=\"text-align:center\">1</td>\n",
    "</tr>\n",
    "<tr>\n",
    "<td>1</td>\n",
    "<td>0</td>\n",
    "<td style=\"text-align:center\">1</td>\n",
    "</tr>\n",
    "<tr>\n",
    "<td>1</td>\n",
    "<td>1</td>\n",
    "<td style=\"text-align:center\">0</td>\n",
    "</tr>\n",
    "</table>"
   ]
  },
  {
   "cell_type": "code",
   "execution_count": null,
   "metadata": {},
   "outputs": [],
   "source": [
    "data = np.array([[1, 1], [1, 0], [0, 1], [0, 0]], dtype=np.float32)\n",
    "labels = np.array([0, 1, 1, 0], dtype=np.float32)"
   ]
  },
  {
   "cell_type": "code",
   "execution_count": null,
   "metadata": {},
   "outputs": [],
   "source": [
    "model.set_weights([[[10], [10]], [-10]])\n",
    "plotBoundary(model)"
   ]
  },
  {
   "cell_type": "markdown",
   "metadata": {},
   "source": [
    "## Answer: It is impossible with only one neuron!. We need to use more than one neuron....\n",
    "## Multilayer Neural Network\n",
    "<img src=\"http://www.cs.nott.ac.uk/~gxk/courses/g5aiai/006neuralnetworks/images/ffnet.jpg\">"
   ]
  },
  {
   "cell_type": "code",
   "execution_count": null,
   "metadata": {},
   "outputs": [],
   "source": [
    "x = Input(shape=(2,))\n",
    "h = Dense(2, activation='sigmoid')(x)\n",
    "y = Dense(1, activation='sigmoid')(h)\n",
    "\n",
    "model = Model(inputs=x, outputs=y)\n",
    "\n",
    "model.compile(optimizer=SGD(lr=1),\n",
    "              loss='mean_squared_error',\n",
    "              metrics=['accuracy'])\n",
    "model.fit(data, labels, epochs=2000, verbose=0)"
   ]
  },
  {
   "cell_type": "code",
   "execution_count": null,
   "metadata": {},
   "outputs": [],
   "source": [
    "plotBoundary(model)"
   ]
  },
  {
   "cell_type": "markdown",
   "metadata": {},
   "source": [
    "## The Little Red Riding Hood Neural Network\n",
    "\n",
    "<img src=\"http://themaleharem.com/wp-content/uploads/2014/06/Walter-crane-little-red-riding-hood-meets-the-wolf-in-the-woods.jpg\">"
   ]
  },
  {
   "cell_type": "code",
   "execution_count": null,
   "metadata": {},
   "outputs": [],
   "source": [
    "import pandas as pd\n",
    "\n",
    "features = ['Big Ears', 'Big Teeth', 'Handsome', 'Wrinkled']\n",
    "classes = ['Scream', 'Hug', 'Food', 'Kiss']\n",
    "data = pd.DataFrame([[1,1,0,0,1,0,0,0],\n",
    "                        [0,1,1,0,0,0,1,1],\n",
    "                        [0,0,0,1,0,1,1,0]], columns=features + classes)\n",
    "\n",
    "data"
   ]
  },
  {
   "cell_type": "code",
   "execution_count": null,
   "metadata": {},
   "outputs": [],
   "source": [
    "x = Input(shape=(4,))\n",
    "h = Dense(3, activation='sigmoid')(x)\n",
    "y = Dense(4, activation='sigmoid')(h)\n",
    "\n",
    "model = Model(inputs=x, outputs=y)\n",
    "\n",
    "model.compile(optimizer=SGD(lr=1),\n",
    "              loss='mean_squared_error',\n",
    "              metrics=['accuracy'])\n",
    "logs = model.fit(data[features].values, data[classes].values, epochs=1000, verbose=0)"
   ]
  },
  {
   "cell_type": "code",
   "execution_count": null,
   "metadata": {},
   "outputs": [],
   "source": [
    "pd.DataFrame(logs.history).iplot()"
   ]
  },
  {
   "cell_type": "code",
   "execution_count": null,
   "metadata": {},
   "outputs": [],
   "source": [
    "toeval = np.array([1, 1, 0, 0]).reshape(1, 4)\n",
    "y_hat = model.predict(toeval)\n",
    "print(pd.Series(toeval.ravel(), index=features))\n",
    "print(pd.Series(y_hat.ravel(), index=classes))"
   ]
  }
 ],
 "metadata": {
  "kernelspec": {
   "display_name": "Python 3",
   "language": "python",
   "name": "python3"
  },
  "language_info": {
   "codemirror_mode": {
    "name": "ipython",
    "version": 3
   },
   "file_extension": ".py",
   "mimetype": "text/x-python",
   "name": "python",
   "nbconvert_exporter": "python",
   "pygments_lexer": "ipython3",
   "version": "3.6.6rc1"
  }
 },
 "nbformat": 4,
 "nbformat_minor": 2
}
